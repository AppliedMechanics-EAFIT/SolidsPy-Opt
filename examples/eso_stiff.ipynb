{
 "cells": [
  {
   "cell_type": "code",
   "execution_count": null,
   "metadata": {
    "vscode": {
     "languageId": "plaintext"
    }
   },
   "outputs": [],
   "source": [
    "from solidspy_opt.optimize import ESO_stiff\n",
    "from solidspy_opt.utils import beam_3d"
   ]
  },
  {
   "cell_type": "code",
   "execution_count": null,
   "metadata": {
    "vscode": {
     "languageId": "plaintext"
    }
   },
   "outputs": [],
   "source": [
    "nodes, mats, els, loads, idx_BC = beam_3d(\n",
    "    L=10, \n",
    "    H=10, \n",
    "    W=10, \n",
    "    E=206.8e9, \n",
    "    v=0.28, \n",
    "    nx=10, \n",
    "    ny=10, \n",
    "    nz=10, \n",
    "    dirs=load_directions, \n",
    "    positions=load_positions\n",
    ")\n",
    "\n",
    "els, nodes, UC = ESO_stress(\n",
    "    nodes=nodes, \n",
    "    els=els, \n",
    "    mats=mats, \n",
    "    loads=loads, \n",
    "    idx_BC=idx_BC, \n",
    "    niter=200, \n",
    "    RR=0.005, \n",
    "    ER=0.05, \n",
    "    volfrac=0.5, \n",
    "    plot=False,\n",
    "    dim_problem=3, \n",
    "    nnodes=8)"
   ]
  },
  {
   "cell_type": "code",
   "execution_count": null,
   "metadata": {
    "vscode": {
     "languageId": "plaintext"
    }
   },
   "outputs": [],
   "source": [
    "from mpl_toolkits.mplot3d.art3d import Poly3DCollection\n",
    "import matplotlib.pyplot as plt\n",
    "import numpy as np\n",
    "\n",
    "def plot_3d_hexahedral_mesh(nodes, elements, values=None):\n",
    "    \"\"\"\n",
    "    Plot a 3D hexahedral mesh using Matplotlib.\n",
    "\n",
    "    Parameters\n",
    "    ----------\n",
    "    nodes : ndarray of shape (n_nodes, 3)\n",
    "        Node coordinates.\n",
    "    elements : ndarray of shape (n_elements, 8)\n",
    "        Indices of the nodes forming each hexahedron.\n",
    "    values : ndarray of shape (n_nodes,), optional\n",
    "        Values at the nodes to color the mesh. If None, a uniform color is used.\n",
    "    \"\"\"\n",
    "    fig = plt.figure()\n",
    "    ax = fig.add_subplot(111, projection='3d')\n",
    "\n",
    "    # Default values for uniform color\n",
    "    if values is None:\n",
    "        values = np.ones(nodes.shape[0])\n",
    "\n",
    "    # Define hexahedron faces for visualization\n",
    "    faces = [\n",
    "        [0, 1, 2, 3],  # Bottom\n",
    "        [4, 5, 6, 7],  # Top\n",
    "        [0, 1, 5, 4],  # Front\n",
    "        [2, 3, 7, 6],  # Back\n",
    "        [0, 3, 7, 4],  # Left\n",
    "        [1, 2, 6, 5],  # Right\n",
    "    ]\n",
    "\n",
    "    # Plot each element\n",
    "    for el in elements:\n",
    "        for face in faces:\n",
    "            verts = [nodes[el[node], :] for node in face]\n",
    "            poly = Poly3DCollection([verts], edgecolor='k', alpha=0.6)\n",
    "            face_value = values[el].mean()  # Average value for face coloring\n",
    "            poly.set_facecolor(plt.cm.viridis(face_value))\n",
    "            ax.add_collection3d(poly)\n",
    "\n",
    "    ax.set_xlabel(\"X\")\n",
    "    ax.set_ylabel(\"Y\")\n",
    "    ax.set_zlabel(\"Z\")\n",
    "    ax.auto_scale_xyz(nodes[:, 0], nodes[:, 1], nodes[:, 2])\n",
    "    plt.show()\n",
    "\n",
    "values = np.random.rand(nodes.shape[0])  # Example values\n",
    "\n",
    "plot_3d_hexahedral_mesh(nodes[:,1:4], els[:,3:], values)\n"
   ]
  }
 ],
 "metadata": {
  "language_info": {
   "name": "python"
  }
 },
 "nbformat": 4,
 "nbformat_minor": 2
}
