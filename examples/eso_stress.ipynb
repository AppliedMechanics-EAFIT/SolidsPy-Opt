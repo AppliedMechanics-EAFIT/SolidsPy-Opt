{
  "cells": [
    {
      "cell_type": "markdown",
      "metadata": {},
      "source": [
        "# **Evolutionary Structural Optimization (ESO) Examples**\n",
        "This notebook provides examples on how to use the `ESO_stress` function from the `solidspy_opt.optimize` module for:\n",
        "1. A 3D cubic structure.\n",
        "2. A 2D square/rectangular structure.\n",
        "\n",
        "We will also use the helper functions `structure_3d` and `structures` from the `solidspy_opt.utils` module to create the respective meshes and boundary/loads arrays.\n"
      ]
    },
    {
      "cell_type": "code",
      "execution_count": null,
      "metadata": {
        "tags": [
          "imports"
        ]
      },
      "outputs": [],
      "source": [
        "%matplotlib widget\n",
        "import numpy as np\n",
        "import matplotlib.pyplot as plt\n",
        "\n",
        "# Import the ESO solver and utility functions from your package\n",
        "from solidspy_opt.optimize import ESO_stress\n",
        "from solidspy_opt.utils import structure_3d, structures\n"
      ]
    },
    {
      "cell_type": "markdown",
      "metadata": {},
      "source": [
        "## Example 1: 3D Structure\n",
        "In this example, we create a 3D 10×10×10 cubic mesh with some loads applied on its top face. We will run ESO for up to 200 iterations, with a target volume fraction (`volfrac`) of 0.5.\n"
      ]
    },
    {
      "cell_type": "code",
      "execution_count": null,
      "metadata": {
        "tags": [
          "3D-example"
        ]
      },
      "outputs": [],
      "source": [
        "# Define the load directions and positions on the top face\n",
        "load_directions_3d = np.array([\n",
        "    [0, 1, 0],    # Load in the Y direction\n",
        "    [1, 0, 0],    # Load in the X direction\n",
        "    [0, 0, -1]    # Load in the negative Z direction\n",
        "])\n",
        "load_positions_3d = np.array([\n",
        "    [5, 5, 9],    # Position near the center of the top face\n",
        "    [1, 1, 9],    # Position near one corner of the top face\n",
        "    [8, 8, 9]     # Position near another corner of the top face\n",
        "])\n",
        "\n",
        "# Generate the nodes, materials, elements, loads, and BC indexes\n",
        "nodes_3d, mats_3d, els_3d, loads_3d, idx_BC_3d = structure_3d(\n",
        "    L=10,       # length in X\n",
        "    H=10,       # length in Y\n",
        "    W=10,       # length in Z\n",
        "    E=206.8e9,  # Young's modulus\n",
        "    v=0.28,     # Poisson's ratio\n",
        "    nx=10,      # number of divisions in X\n",
        "    ny=10,      # number of divisions in Y\n",
        "    nz=10,      # number of divisions in Z\n",
        "    dirs=load_directions_3d,\n",
        "    positions=load_positions_3d\n",
        ")\n",
        "\n",
        "# Run the ESO optimization\n",
        "els_opt_3d, nodes_opt_3d, UC_3d, E_nodes_3d, S_nodes_3d = ESO_stress(\n",
        "    nodes=nodes_3d,\n",
        "    els=els_3d,\n",
        "    mats=mats_3d,\n",
        "    loads=loads_3d,\n",
        "    idx_BC=idx_BC_3d,\n",
        "    niter=200,\n",
        "    RR=0.005,      # Initial removal ratio\n",
        "    ER=0.05,       # Removal ratio increment\n",
        "    volfrac=0.5,   # Target volume fraction\n",
        "    plot=True,     # Whether to plot with solidspy's 3D plot function\n",
        "    dim_problem=3,\n",
        "    nnodes=8       # 8-node hexahedron\n",
        ")\n"
      ]
    },
    {
      "cell_type": "markdown",
      "metadata": {},
      "source": [
        "## Example 2: 2D Structure\n",
        "In this example, we generate a 2D 60×60 square mesh, with a single load applied in the negative Y direction near the top of the structure. We will again run ESO to remove around half of the material by adjusting our `volfrac`.\n"
      ]
    },
    {
      "cell_type": "code",
      "execution_count": null,
      "metadata": {
        "tags": [
          "2D-example"
        ]
      },
      "outputs": [],
      "source": [
        "# Define the load directions and positions for the 2D example\n",
        "load_directions_2d = np.array([[0, -1]])\n",
        "load_positions_2d = np.array([[15, 1]])  # near the middle of the top edge\n",
        "\n",
        "# Generate the 2D structure\n",
        "nodes_2d, mats_2d, els_2d, loads_2d, idx_BC_2d = structures(\n",
        "    L=60,        # length in X\n",
        "    H=60,        # length in Y\n",
        "    nx=60,       # number of divisions in X\n",
        "    ny=60,       # number of divisions in Y\n",
        "    dirs=load_directions_2d,\n",
        "    positions=load_positions_2d,\n",
        "    n=1          # Single load\n",
        ")\n",
        "\n",
        "# Run the ESO optimization in 2D\n",
        "els_opt_2d, nodes_opt_2d, UC_2d, E_nodes_2d, S_nodes_2d = ESO_stress(\n",
        "    nodes=nodes_2d,\n",
        "    els=els_2d,\n",
        "    mats=mats_2d,\n",
        "    loads=loads_2d,\n",
        "    idx_BC=idx_BC_2d,\n",
        "    niter=200,\n",
        "    RR=0.001,     # Initial removal ratio for 2D\n",
        "    ER=0.01,      # Removal ratio increment for 2D\n",
        "    volfrac=0.5,  # Target volume fraction\n",
        "    plot=True,\n",
        "    dim_problem=2,\n",
        "    nnodes=4      # 4-node quadrilateral\n",
        ")\n"
      ]
    },
    {
      "cell_type": "markdown",
      "metadata": {},
      "source": [
        "### Notes:\n",
        "- The plotting functionality (with `plot=True`) will use **solidspy**'s plotting utilities under the hood.\n",
        "- If you are running this in a non-interactive environment, you may need to change or remove `%matplotlib widget`.\n",
        "- If you want to disable plotting, simply set `plot=False` in the call to `ESO_stress`.\n",
        "\n",
        "### References:\n",
        "- **Evolutionary Structural Optimization** [Xie and Steven, 1993].\n",
        "- [**SolidSpy** GitHub](https://github.com/AppliedMechanics-EAFIT/SolidSpy).\n"
      ]
    }
  ],
  "metadata": {
    "kernelspec": {
      "display_name": "Python 3",
      "language": "python",
      "name": "python3"
    },
    "language_info": {
      "name": "python"
    },
    "name": "example_eso"
  },
  "nbformat": 4,
  "nbformat_minor": 5
}

